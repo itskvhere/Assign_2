{
 "cells": [
  {
   "cell_type": "markdown",
   "metadata": {},
   "source": [
    "Initialising pyspark"
   ]
  },
  {
   "cell_type": "code",
   "execution_count": 1,
   "metadata": {},
   "outputs": [
    {
     "name": "stderr",
     "output_type": "stream",
     "text": [
      "24/10/14 11:47:47 WARN Utils: Your hostname, AI-CJB-LAP-460 resolves to a loopback address: 127.0.1.1; using 192.168.1.165 instead (on interface wlp0s20f3)\n",
      "24/10/14 11:47:47 WARN Utils: Set SPARK_LOCAL_IP if you need to bind to another address\n",
      "Setting default log level to \"WARN\".\n",
      "To adjust logging level use sc.setLogLevel(newLevel). For SparkR, use setLogLevel(newLevel).\n",
      "24/10/14 11:47:47 WARN NativeCodeLoader: Unable to load native-hadoop library for your platform... using builtin-java classes where applicable\n"
     ]
    }
   ],
   "source": [
    "import pyspark\n",
    "from pyspark.sql import SparkSession\n",
    "spark=SparkSession.builder.appName(\"pysparkex.com\").getOrCreate()"
   ]
  },
  {
   "cell_type": "markdown",
   "metadata": {},
   "source": [
    "Load first dataset"
   ]
  },
  {
   "cell_type": "code",
   "execution_count": 2,
   "metadata": {},
   "outputs": [
    {
     "name": "stderr",
     "output_type": "stream",
     "text": [
      "24/10/14 11:47:51 WARN SparkStringUtils: Truncated the string representation of a plan since it was too large. This behavior can be adjusted by setting 'spark.sql.debug.maxToStringFields'.\n",
      "                                                                                \r"
     ]
    },
    {
     "name": "stdout",
     "output_type": "stream",
     "text": [
      "+-----------+-------------------+---+------+---------------------+----------+-------+--------+-------------------------------------------------------------------------------------------+----------------------------------------------------+----------------------------------------------------------------------------------------------------------------------------------------------------------------------------------------------------------------------------+------------------------------------------------------------------------------------------------------------------------------------------------------------------------------------------------------------------------------------------------------------------------------------------------------------------------------------------------------------------------------------------------------------------------------------------------------------------------------------------------------+---------+-------+------+----------+----------+--------+---------+----------+---------+------------------+---------+---+--------------------------------------------------------------------------------------------------+-------------+----------------------------+--------------+-------+---+-------+--------+-------+\n",
      "|websitecode|dtcollected        |los|guests|roomtype             |onsiterate|netrate|currency|roomdescription                                                                            |rateplan                                            |sourceurl                                                                                                                                                                                                                   |roomamenities                                                                                                                                                                                                                                                                                                                                                                                                                                                                                         |occupancy|ispromo|closed|checkin   |checkout  |discount|promoname|statuscode|taxstatus|taxtype           |taxamount|pos|proxyused                                                                                         |israteperstay|mealplan                    |optionalextras|payplan|id |refid  |hotelid |minstay|\n",
      "+-----------+-------------------+---+------+---------------------+----------+-------+--------+-------------------------------------------------------------------------------------------+----------------------------------------------------+----------------------------------------------------------------------------------------------------------------------------------------------------------------------------------------------------------------------------+------------------------------------------------------------------------------------------------------------------------------------------------------------------------------------------------------------------------------------------------------------------------------------------------------------------------------------------------------------------------------------------------------------------------------------------------------------------------------------------------------+---------+-------+------+----------+----------+--------+---------+----------+---------+------------------+---------+---+--------------------------------------------------------------------------------------------------+-------------+----------------------------+--------------+-------+---+-------+--------+-------+\n",
      "|2          |2024-09-22 18:19:47|1  |1     |NULL                 |NULL      |NULL   |USD     |nan                                                                                        |nan                                                 |https://www.booking.com/hotel/us/teal-lake-condo-2211-condo.en-gb.html?checkin=2024-10-13;checkout=2024-10-14;group_adults=1;lang=en-us;selected_currency=USD;changed_currency=1;hotelid=4157796                            |nan                                                                                                                                                                                                                                                                                                                                                                                                                                                                                                   |1        |N      |Y     |2024-10-13|2024-10-14|NULL    |nan      |202       |-1       |nan               |NULL     |0  |brd-customer-hl_6d04aa29-zone-hotelsync_us-ip-168.151.96.4:dilqoobc7fo7@brd.superproxy.io:22225   |nan          |nan                         |NULL          |NULL   |1  |262438 |4157796 |NULL   |\n",
      "|2          |2024-09-22 18:19:47|1  |1     |One-Bedroom Apartment|70.0      |78.0   |USD     |Bedroom 1: 1 full bed , Living room: 1 sofa bed , Crib available on request  Size 452 feet²|Free cancellation before October 8, 2024            |https://www.booking.com/hotel/fr/les-berges-de-l-isle.en-gb.html?checkin=2024-10-13;checkout=2024-10-14;group_adults=1;lang=en-us;selected_currency=USD;changed_currency=1;hotelid=6578136                                  |Entire apartment, Private kitchen, Private Bathroom, Patio, Dishwasher, Flat-screen TV, Barbecue, Terrace, Coffee machine, Kitchen , Sofa , Bathtub or shower , Hardwood or parquet floors , Socket near the bed , Sitting area , Private entrance , TV , Refrigerator , Ironing facilities , Iron , Microwave , Heating , Kitchenware , Walk-in closet , Outdoor furniture , Outdoor dining area , Stovetop , Toaster , Dining table , Entire unit located on ground floor , Toilet paper , Sofa bed |4        |Y      |N     |2024-10-13|2024-10-14|10.26   |10% off  |200       |-1       |+$2 taxes and fees|NULL     |0  |brd-customer-hl_6d04aa29-zone-hotelsync_us-ip-92.255.36.123:dilqoobc7fo7@brd.superproxy.io:22225  |Y            |nan                         |NULL          |NULL   |2  |2055755|6578136 |1      |\n",
      "|2          |2024-09-22 18:19:47|1  |1     |One-Bedroom Apartment|63.0      |NULL   |USD     |Bedroom 1: 1 bunk bed , Living room: 1 sofa bed   Size 226 feet²                           |•                                                   |https://www.booking.com/hotel/fr/studio-cabine-4-personnes-terrasse.en-gb.html?checkin=2024-10-13;checkout=2024-10-14;group_adults=1;lang=en-us;selected_currency=USD;changed_currency=1;hotelid=10804142                   |Entire apartment, Private kitchen, Private Bathroom, Balcony, Lake view, Garden view, Mountain view, Flat-screen TV, Barbecue, Coffee machine, Kitchen , Sofa , Bathtub or shower , Socket near the bed , Cleaning products , Sitting area , Private entrance , TV , Refrigerator , Microwave , Heating , Kitchenette , Outdoor dining area , Stovetop , Dining area , Dining table , Detached , Private apartment in building , Clothes rack , Drying rack for clothing , Toilet paper , Sofa bed    |1        |N      |N     |2024-10-13|2024-10-14|NULL    |nan      |200       |-1       |+$1 taxes and fees|NULL     |0  |brd-customer-hl_6d04aa29-zone-hotelsync_us-ip-168.151.109.179:dilqoobc7fo7@brd.superproxy.io:22225|Y            |nan                         |NULL          |NULL   |3  |1972651|10804142|1      |\n",
      "|2          |2024-09-22 18:19:47|1  |1     |One-Bedroom Apartment|70.0      |NULL   |USD     |Bedroom 1: 1 bunk bed , Living room: 1 sofa bed   Size 226 feet²                           |Free cancellation before October 12, 2024           |https://www.booking.com/hotel/fr/studio-cabine-4-personnes-terrasse.en-gb.html?checkin=2024-10-13;checkout=2024-10-14;group_adults=1;lang=en-us;selected_currency=USD;changed_currency=1;hotelid=10804142                   |Entire apartment, Private kitchen, Private Bathroom, Balcony, Lake view, Garden view, Mountain view, Flat-screen TV, Barbecue, Coffee machine, Kitchen , Sofa , Bathtub or shower , Socket near the bed , Cleaning products , Sitting area , Private entrance , TV , Refrigerator , Microwave , Heating , Kitchenette , Outdoor dining area , Stovetop , Dining area , Dining table , Detached , Private apartment in building , Clothes rack , Drying rack for clothing , Toilet paper , Sofa bed    |1        |N      |N     |2024-10-13|2024-10-14|NULL    |nan      |200       |-1       |+$1 taxes and fees|NULL     |0  |brd-customer-hl_6d04aa29-zone-hotelsync_us-ip-168.151.109.179:dilqoobc7fo7@brd.superproxy.io:22225|Y            |nan                         |NULL          |NULL   |4  |1972651|10804142|1      |\n",
      "|2          |2024-09-22 18:19:47|1  |1     |One-Bedroom Apartment|70.0      |NULL   |USD     |Bedroom 1: 1 bunk bed , Living room: 1 sofa bed   Size 226 feet²                           |•                                                   |https://www.booking.com/hotel/fr/studio-cabine-4-personnes-terrasse.en-gb.html?checkin=2024-10-13;checkout=2024-10-14;group_adults=1;lang=en-us;selected_currency=USD;changed_currency=1;hotelid=10804142                   |Entire apartment, Private kitchen, Private Bathroom, Balcony, Lake view, Garden view, Mountain view, Flat-screen TV, Barbecue, Coffee machine, Kitchen , Sofa , Bathtub or shower , Socket near the bed , Cleaning products , Sitting area , Private entrance , TV , Refrigerator , Microwave , Heating , Kitchenette , Outdoor dining area , Stovetop , Dining area , Dining table , Detached , Private apartment in building , Clothes rack , Drying rack for clothing , Toilet paper , Sofa bed    |2        |N      |N     |2024-10-13|2024-10-14|NULL    |nan      |200       |-1       |+$1 taxes and fees|NULL     |0  |brd-customer-hl_6d04aa29-zone-hotelsync_us-ip-168.151.109.179:dilqoobc7fo7@brd.superproxy.io:22225|Y            |nan                         |NULL          |NULL   |5  |1972651|10804142|1      |\n",
      "|2          |2024-09-22 18:19:47|1  |1     |One-Bedroom Apartment|78.0      |NULL   |USD     |Bedroom 1: 1 bunk bed , Living room: 1 sofa bed   Size 226 feet²                           |Free cancellation before October 12, 2024           |https://www.booking.com/hotel/fr/studio-cabine-4-personnes-terrasse.en-gb.html?checkin=2024-10-13;checkout=2024-10-14;group_adults=1;lang=en-us;selected_currency=USD;changed_currency=1;hotelid=10804142                   |Entire apartment, Private kitchen, Private Bathroom, Balcony, Lake view, Garden view, Mountain view, Flat-screen TV, Barbecue, Coffee machine, Kitchen , Sofa , Bathtub or shower , Socket near the bed , Cleaning products , Sitting area , Private entrance , TV , Refrigerator , Microwave , Heating , Kitchenette , Outdoor dining area , Stovetop , Dining area , Dining table , Detached , Private apartment in building , Clothes rack , Drying rack for clothing , Toilet paper , Sofa bed    |2        |N      |N     |2024-10-13|2024-10-14|NULL    |nan      |200       |-1       |+$2 taxes and fees|NULL     |0  |brd-customer-hl_6d04aa29-zone-hotelsync_us-ip-168.151.109.179:dilqoobc7fo7@brd.superproxy.io:22225|Y            |nan                         |NULL          |NULL   |6  |1972651|10804142|1      |\n",
      "|2          |2024-09-22 18:19:47|1  |1     |One-Bedroom Apartment|81.0      |NULL   |USD     |Bedroom 1: 1 bunk bed , Living room: 1 sofa bed   Size 226 feet²                           |•                                                   |https://www.booking.com/hotel/fr/studio-cabine-4-personnes-terrasse.en-gb.html?checkin=2024-10-13;checkout=2024-10-14;group_adults=1;lang=en-us;selected_currency=USD;changed_currency=1;hotelid=10804142                   |Entire apartment, Private kitchen, Private Bathroom, Balcony, Lake view, Garden view, Mountain view, Flat-screen TV, Barbecue, Coffee machine, Kitchen , Sofa , Bathtub or shower , Socket near the bed , Cleaning products , Sitting area , Private entrance , TV , Refrigerator , Microwave , Heating , Kitchenette , Outdoor dining area , Stovetop , Dining area , Dining table , Detached , Private apartment in building , Clothes rack , Drying rack for clothing , Toilet paper , Sofa bed    |3        |N      |N     |2024-10-13|2024-10-14|NULL    |nan      |200       |-1       |+$2 taxes and fees|NULL     |0  |brd-customer-hl_6d04aa29-zone-hotelsync_us-ip-168.151.109.179:dilqoobc7fo7@brd.superproxy.io:22225|Y            |nan                         |NULL          |NULL   |7  |1972651|10804142|1      |\n",
      "|2          |2024-09-22 18:19:47|1  |1     |One-Bedroom Apartment|90.0      |NULL   |USD     |Bedroom 1: 1 bunk bed , Living room: 1 sofa bed   Size 226 feet²                           |Free cancellation before October 12, 2024           |https://www.booking.com/hotel/fr/studio-cabine-4-personnes-terrasse.en-gb.html?checkin=2024-10-13;checkout=2024-10-14;group_adults=1;lang=en-us;selected_currency=USD;changed_currency=1;hotelid=10804142                   |Entire apartment, Private kitchen, Private Bathroom, Balcony, Lake view, Garden view, Mountain view, Flat-screen TV, Barbecue, Coffee machine, Kitchen , Sofa , Bathtub or shower , Socket near the bed , Cleaning products , Sitting area , Private entrance , TV , Refrigerator , Microwave , Heating , Kitchenette , Outdoor dining area , Stovetop , Dining area , Dining table , Detached , Private apartment in building , Clothes rack , Drying rack for clothing , Toilet paper , Sofa bed    |3        |N      |N     |2024-10-13|2024-10-14|NULL    |nan      |200       |-1       |+$2 taxes and fees|NULL     |0  |brd-customer-hl_6d04aa29-zone-hotelsync_us-ip-168.151.109.179:dilqoobc7fo7@brd.superproxy.io:22225|Y            |nan                         |NULL          |NULL   |8  |1972651|10804142|1      |\n",
      "|2          |2024-09-22 18:19:47|1  |1     |One-Bedroom Apartment|84.0      |NULL   |USD     |Bedroom 1: 1 bunk bed , Living room: 1 sofa bed   Size 226 feet²                           |•                                                   |https://www.booking.com/hotel/fr/studio-cabine-4-personnes-terrasse.en-gb.html?checkin=2024-10-13;checkout=2024-10-14;group_adults=1;lang=en-us;selected_currency=USD;changed_currency=1;hotelid=10804142                   |Entire apartment, Private kitchen, Private Bathroom, Balcony, Lake view, Garden view, Mountain view, Flat-screen TV, Barbecue, Coffee machine, Kitchen , Sofa , Bathtub or shower , Socket near the bed , Cleaning products , Sitting area , Private entrance , TV , Refrigerator , Microwave , Heating , Kitchenette , Outdoor dining area , Stovetop , Dining area , Dining table , Detached , Private apartment in building , Clothes rack , Drying rack for clothing , Toilet paper , Sofa bed    |4        |N      |N     |2024-10-13|2024-10-14|NULL    |nan      |200       |-1       |+$2 taxes and fees|NULL     |0  |brd-customer-hl_6d04aa29-zone-hotelsync_us-ip-168.151.109.179:dilqoobc7fo7@brd.superproxy.io:22225|Y            |nan                         |NULL          |NULL   |9  |1972651|10804142|1      |\n",
      "|2          |2024-09-22 18:19:47|1  |1     |One-Bedroom Apartment|94.0      |NULL   |USD     |Bedroom 1: 1 bunk bed , Living room: 1 sofa bed   Size 226 feet²                           |Free cancellation before October 12, 2024           |https://www.booking.com/hotel/fr/studio-cabine-4-personnes-terrasse.en-gb.html?checkin=2024-10-13;checkout=2024-10-14;group_adults=1;lang=en-us;selected_currency=USD;changed_currency=1;hotelid=10804142                   |Entire apartment, Private kitchen, Private Bathroom, Balcony, Lake view, Garden view, Mountain view, Flat-screen TV, Barbecue, Coffee machine, Kitchen , Sofa , Bathtub or shower , Socket near the bed , Cleaning products , Sitting area , Private entrance , TV , Refrigerator , Microwave , Heating , Kitchenette , Outdoor dining area , Stovetop , Dining area , Dining table , Detached , Private apartment in building , Clothes rack , Drying rack for clothing , Toilet paper , Sofa bed    |4        |N      |N     |2024-10-13|2024-10-14|NULL    |nan      |200       |-1       |+$2 taxes and fees|NULL     |0  |brd-customer-hl_6d04aa29-zone-hotelsync_us-ip-168.151.109.179:dilqoobc7fo7@brd.superproxy.io:22225|Y            |nan                         |NULL          |NULL   |10 |1972651|10804142|1      |\n",
      "|2          |2024-09-22 18:19:47|1  |1     |NULL                 |NULL      |NULL   |USD     |nan                                                                                        |nan                                                 |https://www.booking.com/hotel/fr/appartement-beaufort-3-pieces-4-personnes-fr-1-342-281.en-gb.html?checkin=2024-10-13;checkout=2024-10-14;group_adults=1;lang=en-us;selected_currency=USD;changed_currency=1;hotelid=9018352|nan                                                                                                                                                                                                                                                                                                                                                                                                                                                                                                   |1        |N      |Y     |2024-10-13|2024-10-14|NULL    |nan      |202       |-1       |nan               |NULL     |0  |brd-customer-hl_6d04aa29-zone-hotelsync_us-ip-89.223.19.165:dilqoobc7fo7@brd.superproxy.io:22225  |nan          |nan                         |NULL          |NULL   |11 |2007642|9018352 |NULL   |\n",
      "|2          |2024-09-22 18:19:47|1  |1     |NULL                 |NULL      |NULL   |USD     |nan                                                                                        |nan                                                 |https://www.booking.com/hotel/it/art-apartment-stazione-b.en-gb.html?checkin=2024-10-13;checkout=2024-10-14;group_adults=1;lang=en-us;selected_currency=USD;changed_currency=1;hotelid=10673661                             |nan                                                                                                                                                                                                                                                                                                                                                                                                                                                                                                   |1        |N      |Y     |2024-10-13|2024-10-14|NULL    |nan      |202       |-1       |nan               |NULL     |0  |brd-customer-hl_6d04aa29-zone-hotelsync_us-ip-180.149.22.135:dilqoobc7fo7@brd.superproxy.io:22225 |nan          |nan                         |NULL          |NULL   |12 |1058497|10673661|NULL   |\n",
      "|2          |2024-09-22 18:19:47|1  |1     |NULL                 |NULL      |NULL   |USD     |nan                                                                                        |nan                                                 |https://www.booking.com/hotel/nz/stylish-townhouse-havelock-north.en-gb.html?checkin=2024-10-13;checkout=2024-10-14;group_adults=1;lang=en-us;selected_currency=USD;changed_currency=1;hotelid=12177757                     |nan                                                                                                                                                                                                                                                                                                                                                                                                                                                                                                   |1        |N      |Y     |2024-10-13|2024-10-14|NULL    |nan      |202       |-1       |nan               |NULL     |0  |brd-customer-hl_6d04aa29-zone-hotelsync_us-ip-93.180.205.133:dilqoobc7fo7@brd.superproxy.io:22225 |nan          |nan                         |NULL          |NULL   |13 |730450 |12177757|NULL   |\n",
      "|2          |2024-09-22 18:19:47|1  |1     |NULL                 |NULL      |NULL   |USD     |nan                                                                                        |nan                                                 |https://www.booking.com/hotel/us/windmark-seaside-sabbatical.en-gb.html?checkin=2024-10-13;checkout=2024-10-14;group_adults=1;lang=en-us;selected_currency=USD;changed_currency=1;hotelid=10971392                          |nan                                                                                                                                                                                                                                                                                                                                                                                                                                                                                                   |1        |N      |Y     |2024-10-13|2024-10-14|NULL    |nan      |202       |-1       |nan               |NULL     |0  |brd-customer-hl_6d04aa29-zone-hotelsync_us-ip-216.194.88.130:dilqoobc7fo7@brd.superproxy.io:22225 |nan          |nan                         |NULL          |NULL   |14 |192455 |10971392|NULL   |\n",
      "|2          |2024-09-22 18:19:47|1  |1     |NULL                 |NULL      |NULL   |USD     |nan                                                                                        |nan                                                 |https://www.booking.com/hotel/us/1st-base-apt-2-all-star-baseball-rentals.en-gb.html?checkin=2024-10-13;checkout=2024-10-14;group_adults=1;lang=en-us;selected_currency=USD;changed_currency=1;hotelid=9632968              |nan                                                                                                                                                                                                                                                                                                                                                                                                                                                                                                   |1        |N      |Y     |2024-10-13|2024-10-14|NULL    |nan      |202       |-1       |nan               |NULL     |0  |brd-customer-hl_6d04aa29-zone-hotelsync_us-ip-91.132.187.224:dilqoobc7fo7@brd.superproxy.io:22225 |nan          |nan                         |NULL          |NULL   |15 |244943 |9632968 |NULL   |\n",
      "|2          |2024-09-22 18:19:48|1  |1     |Double Room          |126.0     |NULL   |USD     |1 full bed   Size 269 feet²                                                                |•                                                   |https://www.booking.com/hotel/fr/mas-bel-esperance.en-gb.html?checkin=2024-10-13;checkout=2024-10-14;group_adults=1;lang=en-us;selected_currency=USD;changed_currency=1;hotelid=7525608                                     |Garden view, Bathtub, Air conditioning, Private Bathroom, Free toiletries , Toilet , Towels , Refrigerator , Heating , Hairdryer , Electric kettle , Wardrobe or closet , Toilet paper                                                                                                                                                                                                                                                                                                                |1        |N      |N     |2024-10-13|2024-10-14|NULL    |nan      |200       |-1       |+$1 taxes and fees|NULL     |0  |brd-customer-hl_6d04aa29-zone-hotelsync_us-ip-161.123.190.135:dilqoobc7fo7@brd.superproxy.io:22225|Y            |Wonderful breakfast included|NULL          |NULL   |16 |2073251|7525608 |1      |\n",
      "|2          |2024-09-22 18:19:48|1  |1     |Double Room          |140.0     |NULL   |USD     |1 full bed   Size 269 feet²                                                                |Free cancellation before September 29, 2024         |https://www.booking.com/hotel/fr/mas-bel-esperance.en-gb.html?checkin=2024-10-13;checkout=2024-10-14;group_adults=1;lang=en-us;selected_currency=USD;changed_currency=1;hotelid=7525608                                     |Garden view, Bathtub, Air conditioning, Private Bathroom, Free toiletries , Toilet , Towels , Refrigerator , Heating , Hairdryer , Electric kettle , Wardrobe or closet , Toilet paper                                                                                                                                                                                                                                                                                                                |1        |N      |N     |2024-10-13|2024-10-14|NULL    |nan      |200       |-1       |+$1 taxes and fees|NULL     |0  |brd-customer-hl_6d04aa29-zone-hotelsync_us-ip-161.123.190.135:dilqoobc7fo7@brd.superproxy.io:22225|Y            |Wonderful breakfast included|NULL          |NULL   |17 |2073251|7525608 |1      |\n",
      "|2          |2024-09-22 18:19:48|1  |1     |Double Room          |140.0     |NULL   |USD     |1 full bed   Size 269 feet²                                                                |•                                                   |https://www.booking.com/hotel/fr/mas-bel-esperance.en-gb.html?checkin=2024-10-13;checkout=2024-10-14;group_adults=1;lang=en-us;selected_currency=USD;changed_currency=1;hotelid=7525608                                     |Garden view, Bathtub, Air conditioning, Private Bathroom, Free toiletries , Toilet , Towels , Refrigerator , Heating , Hairdryer , Electric kettle , Wardrobe or closet , Toilet paper                                                                                                                                                                                                                                                                                                                |2        |N      |N     |2024-10-13|2024-10-14|NULL    |nan      |200       |-1       |+$1 taxes and fees|NULL     |0  |brd-customer-hl_6d04aa29-zone-hotelsync_us-ip-161.123.190.135:dilqoobc7fo7@brd.superproxy.io:22225|Y            |Wonderful breakfast included|NULL          |NULL   |18 |2073251|7525608 |1      |\n",
      "|2          |2024-09-22 18:19:48|1  |1     |Double Room          |156.0     |NULL   |USD     |1 full bed   Size 269 feet²                                                                |Free cancellation before September 29, 2024         |https://www.booking.com/hotel/fr/mas-bel-esperance.en-gb.html?checkin=2024-10-13;checkout=2024-10-14;group_adults=1;lang=en-us;selected_currency=USD;changed_currency=1;hotelid=7525608                                     |Garden view, Bathtub, Air conditioning, Private Bathroom, Free toiletries , Toilet , Towels , Refrigerator , Heating , Hairdryer , Electric kettle , Wardrobe or closet , Toilet paper                                                                                                                                                                                                                                                                                                                |2        |N      |N     |2024-10-13|2024-10-14|NULL    |nan      |200       |-1       |+$1 taxes and fees|NULL     |0  |brd-customer-hl_6d04aa29-zone-hotelsync_us-ip-161.123.190.135:dilqoobc7fo7@brd.superproxy.io:22225|Y            |Wonderful breakfast included|NULL          |NULL   |19 |2073251|7525608 |1      |\n",
      "|2          |2024-09-22 18:19:48|1  |1     |Superior Double Room |45.0      |NULL   |USD     |1 queen bed   Size 301 feet²                                                               |Free cancellation before 2:00 PM on October 13, 2024|https://www.booking.com/hotel/sa/raoum-inn-khafji-southern.en-gb.html?checkin=2024-10-13;checkout=2024-10-14;group_adults=1;lang=en-us;selected_currency=USD;changed_currency=1;hotelid=389633                              |1 room, Private kitchen, Private Bathroom, Air conditioning, Flat-screen TV, Free Wifi, Kitchen , Safe , Toilet , Bathtub or shower , Telephone , Iron , Upper floors accessible by elevator , Drying rack for clothing                                                                                                                                                                                                                                                                               |2        |N      |N     |2024-10-13|2024-10-14|NULL    |nan      |200       |-1       |+$8 taxes and fees|NULL     |0  |brd-customer-hl_6d04aa29-zone-hotelsync_us-ip-150.129.93.253:dilqoobc7fo7@brd.superproxy.io:22225 |Y            |nan                         |NULL          |NULL   |20 |481136 |389633  |1      |\n",
      "+-----------+-------------------+---+------+---------------------+----------+-------+--------+-------------------------------------------------------------------------------------------+----------------------------------------------------+----------------------------------------------------------------------------------------------------------------------------------------------------------------------------------------------------------------------------+------------------------------------------------------------------------------------------------------------------------------------------------------------------------------------------------------------------------------------------------------------------------------------------------------------------------------------------------------------------------------------------------------------------------------------------------------------------------------------------------------+---------+-------+------+----------+----------+--------+---------+----------+---------+------------------+---------+---+--------------------------------------------------------------------------------------------------+-------------+----------------------------+--------------+-------+---+-------+--------+-------+\n",
      "only showing top 20 rows\n",
      "\n"
     ]
    }
   ],
   "source": [
    "rates_df=spark.read.parquet(\"/home/ai/Documents/Program/Assessment 2/Documentation/hospitality_raw_rates.parquet\")\n",
    "rates_df.show(truncate=False)"
   ]
  },
  {
   "cell_type": "markdown",
   "metadata": {},
   "source": [
    "Load second Dataset"
   ]
  },
  {
   "cell_type": "code",
   "execution_count": 3,
   "metadata": {},
   "outputs": [
    {
     "name": "stdout",
     "output_type": "stream",
     "text": [
      "+-------+---------+--------+-----------+--------------------+--------------------+--------------------+--------------------+-----------+--------+------------+------------+------+---------------+------+----------+------------+\n",
      "|     id|hotelcode| hotelid|websitecode|           hotelname|             address|                city|               state|countrycode|     zip|         lat|         lng|status|   propertytype|rating|larbarterm|reviewscount|\n",
      "+-------+---------+--------+-----------+--------------------+--------------------+--------------------+--------------------+-----------+--------+------------+------------+------+---------------+------+----------+------------+\n",
      "|4492402|   329109|22995521|          1|       Hotel Perales|  Avenida Pio XII, 3|Talavera de la Reina|  Castilla-La Mancha|        ESP|   45600| 39.96392945| -4.81959432|     1|          Hotel|   3.0|      NULL|        NULL|\n",
      "|4492405|   329778| 1381371|          1|The Cherry Tree G...|  15 Silverdale Road|          Eastbourne|         East Sussex|        GBR|BN20 7AJ| 50.76003989|  0.28126985|     1|    Guest house|   4.0|      NULL|        NULL|\n",
      "|4492408|   333046|17810920|          1|   Asia Boutique Inn|Rua Correia Da Si...|               Macao|               Hunan|        CHN|    NULL|     22.1527|     113.557|     1|            Inn|   2.0|      NULL|        NULL|\n",
      "|4492409|   334152|46258460|          1| Dunham's Bay Resort| 2999 State Route 9L|         Lake George|                  NY|        USA|   12845| 43.44187478|-73.64971116|     1|          Hotel|   3.0|      NULL|        NULL|\n",
      "|4492410|   334788|31836214|          1| Pazo de Turbisquedo|Lugar de Turbisqu...|         Turbisquedo|             Galicia|        ESP|   32151| 42.48257569| -7.76391417|     1|Bed & Breakfast|   3.0|      NULL|        NULL|\n",
      "|4492376|   281236| 3138814|          1|  Relais du Val Vert|6 Avenue Baptiste...|     Le Puy en Velay|Auvergne-Rhone-Alpes|        FRA|   63100|     45.0276|     3.88452|     0|          Hotel|   2.0|      NULL|        NULL|\n",
      "|4492387|   302411|18109931|          1|   Hotel Don Rodrigo|        Los Gatos, 1|            Palencia|    Castile And Leon|        ESP|   34005| 42.00957918| -4.53764612|     0|          Hotel|   3.0|      NULL|        NULL|\n",
      "|4492389|   309389|29477500|          1|Suryalila Retreat...|Cortijo la Fabric...|       Prado del Rey|           Andalusia|        ESP|   11650|     36.7873|    -5.60365|     0|     Aparthotel|   2.0|      NULL|        NULL|\n",
      "|4492384|   295583|23933724|          1|Hotel Castillo de...|Carretera Cordoba...|          Montemayor|    Castile And Leon|        ESP|   14530| 37.64510935| -4.70340908|     0|          Hotel|   2.0|      NULL|        NULL|\n",
      "|4492388|   303980|33342596|          1|     Posada Mellante|       El Collado, 5|              Pechon|           Cantabria|        ESP|   39594| 43.38951855| -4.49516773|     0|    Guest house|   3.0|      NULL|        NULL|\n",
      "|4492380|   289999|   10608|          1|     Maxx Hotel Jena|Stauffenbergstras...|                Jena|           Thuringia|        DEU|   07747| 50.88013621| 11.60072833|     1|          Hotel|   4.0|      NULL|        NULL|\n",
      "|4492386|   297299|26874558|          1|Hotel & Restauran...|    Christkindlweg 6|               Steyr|       Upper Austria|        AUT|    4400|    48.03842|    14.38716|     1|          HOTEL|   4.0|      NULL|        59.0|\n",
      "|4492413|   337619|23055172|          1|Posada Casa de do...|Plaza Doctor Madr...|         Vega de Pas|           Cantabria|        ESP|   39685|   43.158459|   -3.782863|     1|            Inn|   0.0|      NULL|        NULL|\n",
      "|4492414|   339215|15464086|          1|Hotel Rural Bonestar|     La Llacuna, s/n|          Villalonga|             Galicia|        ESP|   46720| 38.85859556| -0.21728676|     1|          Hotel|   0.0|      NULL|        NULL|\n",
      "|4492415|   340132| 4817096|          1|       Athina Villas|               Plaka|             Elounda|   Central Macedonia|        GRC|   70014| 35.29890135| 25.72757721|     1|      Apartment|   3.0|      NULL|        NULL|\n",
      "|4492417|   341325|13408419|          1|Casa Rural Haitze...|Iriarteko Borda, s/n|        Zugarramurdi|             Navarre|        ESP|   31710| 43.26347775| -1.55959457|     1|  Country house|   3.0|      NULL|        NULL|\n",
      "|4492419|   343410|34478546|          1|      Kirkgate House|         17 Kirkgate|       Knaresborough|     North Yorkshire|        GBR| HG5 8AD| 54.00818489| -1.46856844|     1|Bed & Breakfast|   3.0|      NULL|        NULL|\n",
      "|4492421|   347829| 1150311|          1|La Bagnaia Golf R...|S.S. 223 Siena-Gr...|             Bagnaia|             Tuscany|        ITA|   53016| 43.21673316| 11.29232794|     1|         Resort|   5.0|      NULL|        NULL|\n",
      "|4492422|   347962|44932937|          1|        Borgo Poneta| Strada di Poneta 64|Barberino di Val ...|             Tuscany|        ITA|   50052| 43.51657183| 11.13043785|     1|      Farm Stay|   3.0|      NULL|        NULL|\n",
      "|4492426|   353622|15876195|          1|Country Villa Estate|    351 Dalbeth road|          Ngongotaha|       Bay Of Plenty|        NZL|    3072|-38.06271007|176.17256451|     1|Bed & Breakfast|   4.0|      NULL|        NULL|\n",
      "+-------+---------+--------+-----------+--------------------+--------------------+--------------------+--------------------+-----------+--------+------------+------------+------+---------------+------+----------+------------+\n",
      "only showing top 20 rows\n",
      "\n"
     ]
    }
   ],
   "source": [
    "hotel_df=spark.read.parquet(\"/home/ai/Documents/Program/Assessment 2/Documentation/hotelsourcesdetails.parquet\")\n",
    "hotel_df.show()"
   ]
  },
  {
   "cell_type": "markdown",
   "metadata": {},
   "source": [
    "Identify id col"
   ]
  },
  {
   "cell_type": "code",
   "execution_count": 4,
   "metadata": {},
   "outputs": [
    {
     "data": {
      "text/plain": [
       "{'hotelid', 'id', 'websitecode'}"
      ]
     },
     "execution_count": 4,
     "metadata": {},
     "output_type": "execute_result"
    }
   ],
   "source": [
    "col1 = set(hotel_df.columns)\n",
    "col2 = set(rates_df.columns)\n",
    "common_col = col1.intersection(col2)\n",
    "common_col"
   ]
  },
  {
   "cell_type": "markdown",
   "metadata": {},
   "source": [
    "Identify unique col"
   ]
  },
  {
   "cell_type": "code",
   "execution_count": 5,
   "metadata": {},
   "outputs": [
    {
     "name": "stderr",
     "output_type": "stream",
     "text": [
      "24/10/14 11:47:54 WARN RowBasedKeyValueBatch: Calling spill() on RowBasedKeyValueBatch. Will not spill but return 0.\n",
      "24/10/14 11:47:54 WARN RowBasedKeyValueBatch: Calling spill() on RowBasedKeyValueBatch. Will not spill but return 0.\n",
      "24/10/14 11:47:54 WARN RowBasedKeyValueBatch: Calling spill() on RowBasedKeyValueBatch. Will not spill but return 0.\n",
      "24/10/14 11:47:54 WARN RowBasedKeyValueBatch: Calling spill() on RowBasedKeyValueBatch. Will not spill but return 0.\n",
      "24/10/14 11:47:54 WARN RowBasedKeyValueBatch: Calling spill() on RowBasedKeyValueBatch. Will not spill but return 0.\n",
      "24/10/14 11:47:54 WARN RowBasedKeyValueBatch: Calling spill() on RowBasedKeyValueBatch. Will not spill but return 0.\n",
      "24/10/14 11:47:54 WARN RowBasedKeyValueBatch: Calling spill() on RowBasedKeyValueBatch. Will not spill but return 0.\n",
      "24/10/14 11:47:54 WARN RowBasedKeyValueBatch: Calling spill() on RowBasedKeyValueBatch. Will not spill but return 0.\n",
      "24/10/14 11:47:59 WARN RowBasedKeyValueBatch: Calling spill() on RowBasedKeyValueBatch. Will not spill but return 0.\n",
      "24/10/14 11:47:59 WARN RowBasedKeyValueBatch: Calling spill() on RowBasedKeyValueBatch. Will not spill but return 0.\n",
      "24/10/14 11:47:59 WARN RowBasedKeyValueBatch: Calling spill() on RowBasedKeyValueBatch. Will not spill but return 0.\n",
      "24/10/14 11:47:59 WARN RowBasedKeyValueBatch: Calling spill() on RowBasedKeyValueBatch. Will not spill but return 0.\n",
      "24/10/14 11:47:59 WARN RowBasedKeyValueBatch: Calling spill() on RowBasedKeyValueBatch. Will not spill but return 0.\n",
      "24/10/14 11:47:59 WARN RowBasedKeyValueBatch: Calling spill() on RowBasedKeyValueBatch. Will not spill but return 0.\n",
      "24/10/14 11:47:59 WARN RowBasedKeyValueBatch: Calling spill() on RowBasedKeyValueBatch. Will not spill but return 0.\n",
      "24/10/14 11:47:59 WARN RowBasedKeyValueBatch: Calling spill() on RowBasedKeyValueBatch. Will not spill but return 0.\n",
      "24/10/14 11:47:59 WARN RowBasedKeyValueBatch: Calling spill() on RowBasedKeyValueBatch. Will not spill but return 0.\n",
      "                                                                                \r"
     ]
    },
    {
     "name": "stdout",
     "output_type": "stream",
     "text": [
      "Unique IDs in df1: 8297401, Total records: 8297401\n"
     ]
    },
    {
     "name": "stderr",
     "output_type": "stream",
     "text": [
      "24/10/14 11:48:01 WARN RowBasedKeyValueBatch: Calling spill() on RowBasedKeyValueBatch. Will not spill but return 0.\n",
      "24/10/14 11:48:01 WARN RowBasedKeyValueBatch: Calling spill() on RowBasedKeyValueBatch. Will not spill but return 0.\n",
      "24/10/14 11:48:01 WARN RowBasedKeyValueBatch: Calling spill() on RowBasedKeyValueBatch. Will not spill but return 0.\n",
      "24/10/14 11:48:01 WARN RowBasedKeyValueBatch: Calling spill() on RowBasedKeyValueBatch. Will not spill but return 0.\n",
      "24/10/14 11:48:01 WARN RowBasedKeyValueBatch: Calling spill() on RowBasedKeyValueBatch. Will not spill but return 0.\n",
      "24/10/14 11:48:01 WARN RowBasedKeyValueBatch: Calling spill() on RowBasedKeyValueBatch. Will not spill but return 0.\n",
      "24/10/14 11:48:01 WARN RowBasedKeyValueBatch: Calling spill() on RowBasedKeyValueBatch. Will not spill but return 0.\n",
      "24/10/14 11:48:01 WARN RowBasedKeyValueBatch: Calling spill() on RowBasedKeyValueBatch. Will not spill but return 0.\n",
      "24/10/14 11:48:02 WARN RowBasedKeyValueBatch: Calling spill() on RowBasedKeyValueBatch. Will not spill but return 0.\n",
      "24/10/14 11:48:02 WARN RowBasedKeyValueBatch: Calling spill() on RowBasedKeyValueBatch. Will not spill but return 0.\n",
      "24/10/14 11:48:02 WARN RowBasedKeyValueBatch: Calling spill() on RowBasedKeyValueBatch. Will not spill but return 0.\n",
      "24/10/14 11:48:02 WARN RowBasedKeyValueBatch: Calling spill() on RowBasedKeyValueBatch. Will not spill but return 0.\n",
      "24/10/14 11:48:02 WARN RowBasedKeyValueBatch: Calling spill() on RowBasedKeyValueBatch. Will not spill but return 0.\n",
      "24/10/14 11:48:02 WARN RowBasedKeyValueBatch: Calling spill() on RowBasedKeyValueBatch. Will not spill but return 0.\n",
      "24/10/14 11:48:05 WARN RowBasedKeyValueBatch: Calling spill() on RowBasedKeyValueBatch. Will not spill but return 0.\n",
      "24/10/14 11:48:05 WARN RowBasedKeyValueBatch: Calling spill() on RowBasedKeyValueBatch. Will not spill but return 0.\n",
      "24/10/14 11:48:05 WARN RowBasedKeyValueBatch: Calling spill() on RowBasedKeyValueBatch. Will not spill but return 0.\n",
      "24/10/14 11:48:05 WARN RowBasedKeyValueBatch: Calling spill() on RowBasedKeyValueBatch. Will not spill but return 0.\n",
      "24/10/14 11:48:05 WARN RowBasedKeyValueBatch: Calling spill() on RowBasedKeyValueBatch. Will not spill but return 0.\n",
      "24/10/14 11:48:05 WARN RowBasedKeyValueBatch: Calling spill() on RowBasedKeyValueBatch. Will not spill but return 0.\n",
      "24/10/14 11:48:05 WARN RowBasedKeyValueBatch: Calling spill() on RowBasedKeyValueBatch. Will not spill but return 0.\n",
      "24/10/14 11:48:05 WARN RowBasedKeyValueBatch: Calling spill() on RowBasedKeyValueBatch. Will not spill but return 0.\n",
      "24/10/14 11:48:06 WARN RowBasedKeyValueBatch: Calling spill() on RowBasedKeyValueBatch. Will not spill but return 0.\n",
      "24/10/14 11:48:06 WARN RowBasedKeyValueBatch: Calling spill() on RowBasedKeyValueBatch. Will not spill but return 0.\n",
      "24/10/14 11:48:06 WARN RowBasedKeyValueBatch: Calling spill() on RowBasedKeyValueBatch. Will not spill but return 0.\n",
      "24/10/14 11:48:06 WARN RowBasedKeyValueBatch: Calling spill() on RowBasedKeyValueBatch. Will not spill but return 0.\n",
      "24/10/14 11:48:06 WARN RowBasedKeyValueBatch: Calling spill() on RowBasedKeyValueBatch. Will not spill but return 0.\n",
      "24/10/14 11:48:06 WARN RowBasedKeyValueBatch: Calling spill() on RowBasedKeyValueBatch. Will not spill but return 0.\n",
      "24/10/14 11:48:06 WARN RowBasedKeyValueBatch: Calling spill() on RowBasedKeyValueBatch. Will not spill but return 0.\n",
      "24/10/14 11:48:06 WARN RowBasedKeyValueBatch: Calling spill() on RowBasedKeyValueBatch. Will not spill but return 0.\n",
      "24/10/14 11:48:06 WARN RowBasedKeyValueBatch: Calling spill() on RowBasedKeyValueBatch. Will not spill but return 0.\n",
      "24/10/14 11:48:06 WARN RowBasedKeyValueBatch: Calling spill() on RowBasedKeyValueBatch. Will not spill but return 0.\n",
      "24/10/14 11:48:06 WARN RowBasedKeyValueBatch: Calling spill() on RowBasedKeyValueBatch. Will not spill but return 0.\n",
      "24/10/14 11:48:06 WARN RowBasedKeyValueBatch: Calling spill() on RowBasedKeyValueBatch. Will not spill but return 0.\n",
      "24/10/14 11:48:06 WARN RowBasedKeyValueBatch: Calling spill() on RowBasedKeyValueBatch. Will not spill but return 0.\n",
      "24/10/14 11:48:06 WARN RowBasedKeyValueBatch: Calling spill() on RowBasedKeyValueBatch. Will not spill but return 0.\n",
      "24/10/14 11:48:06 WARN RowBasedKeyValueBatch: Calling spill() on RowBasedKeyValueBatch. Will not spill but return 0.\n",
      "24/10/14 11:48:06 WARN RowBasedKeyValueBatch: Calling spill() on RowBasedKeyValueBatch. Will not spill but return 0.\n",
      "[Stage 15:===================================================>      (8 + 1) / 9]\r"
     ]
    },
    {
     "name": "stdout",
     "output_type": "stream",
     "text": [
      "Unique IDs in df1: 15462327, Total records: 15462327\n"
     ]
    },
    {
     "name": "stderr",
     "output_type": "stream",
     "text": [
      "                                                                                \r"
     ]
    }
   ],
   "source": [
    "\n",
    "unique =rates_df.select('id').distinct().count()\n",
    "total =rates_df.count()\n",
    "print(f\"Unique IDs in df1: {unique}, Total records: {total}\")\n",
    "\n",
    "unique = hotel_df.select('id').distinct().count()\n",
    "total =hotel_df.count()\n",
    "print(f\"Unique IDs in df1: {unique}, Total records: {total}\")\n"
   ]
  },
  {
   "cell_type": "markdown",
   "metadata": {},
   "source": [
    "Filter data with  country named IRELAND "
   ]
  },
  {
   "cell_type": "code",
   "execution_count": 9,
   "metadata": {},
   "outputs": [
    {
     "name": "stdout",
     "output_type": "stream",
     "text": [
      "+--------+---------+--------+-----------+--------------------+--------------------+------------+----------------+-----------+----+-----------+------------+------+--------------------+------+----------+------------+\n",
      "|      id|hotelcode| hotelid|websitecode|           hotelname|             address|        city|           state|countrycode| zip|        lat|         lng|status|        propertytype|rating|larbarterm|reviewscount|\n",
      "+--------+---------+--------+-----------+--------------------+--------------------+------------+----------------+-----------+----+-----------+------------+------+--------------------+------+----------+------------+\n",
      "| 4492621|   459664|15690635|          1|Auburndale Bed & ...|Smithland East, S...|    Kilkenny| County Kilkenny|        IRL|NULL|  52.634443|   -7.251345|     1|         Guest house|   4.0|      NULL|        NULL|\n",
      "| 4493300|   959939|46310864|          1|Hillside Haven co...|82 1, Jayawardana...|Nuwara Eliya|Central Province|        IRL|NULL|   6.923745|   80.792331|     1|        Holiday home|   3.0|      NULL|        NULL|\n",
      "| 4493646|  1212015|26991076|          1|  Ocean View Doogort|   Ocean view Dugort|     Doogort|        Connacht|        IRL|NULL|54.01332894|-10.01712018|     0|        Holiday Home|   3.0|      NULL|        NULL|\n",
      "| 4493805|  1294694|40029197|          1|     Rose of the Sea|       Corclogh East|   Belmullet|        Connacht|        IRL|NULL|    54.2053|    -9.96398|     1|            Homestay|   0.0|      NULL|        NULL|\n",
      "| 4493931|  1350340|  176109|          1|            The Mont|      Merrion Square|      Dublin|        Leinster|        IRL|NULL|53.34147716| -6.25068694|     1|               Hotel|   4.0|      NULL|        NULL|\n",
      "| 4494069|  1392467|15655664|          1|    Whitethorn Lodge|1 Shannon View Ki...|     Ballina|        Connacht|        IRL|NULL|    52.8181|    -8.43606|     1|          Town House|   4.0|      NULL|        NULL|\n",
      "| 4494746|  1827954|22282748|          1|Temple Bar Crown ...| Fownes Street Upper|      Dublin|        Leinster|        IRL|NULL|  53.345237|   -6.263239|     1|           Apartment|   3.0|      NULL|        NULL|\n",
      "| 4494830|  1850912| 1105710|          1|Dingle Benners Hotel|Main Street, Ding...|      Dingle|         Munster|        IRL|NULL|52.14147568|-10.26815593|     1|               Hotel|   3.0|      NULL|        NULL|\n",
      "| 4495074|  1893101|58988437|          1|      Elderberry B&B|       Deerpark East|    Westport|        Connacht|        IRL|NULL|    53.8049|    -9.52135|     0|     Bed & breakfast|   3.0|      NULL|        NULL|\n",
      "| 4495531|  2260068|33720632|          1|Markree Home Farm...|Markree Home Farm...|   Collooney|        Connacht|        IRL|NULL|    54.1761|    -8.46052|     0|           Apartment|   3.0|      NULL|        NULL|\n",
      "| 4496150|  2695235|37735718|          1|Glen abhainn Stan...|Dublin Road Glen ...|     Athlone|        Leinster|        IRL|NULL|53.41553319| -7.90128284|     1|           Apartment|   3.0|      NULL|        NULL|\n",
      "| 4496683|  3129370|58999287|          1|Radharc na Cealla...|           Kells Bay|       Kells|         Munster|        IRL|NULL|    52.0228|    -10.0997|     1|        Holiday home|   4.0|      NULL|        NULL|\n",
      "|14979427|  7576445|12055429|          2|            Sandbury|    23 Friary Street|    Kilkenny| Kilkenny County|        IRL|NULL|  52.650397|   -7.254973|     0|  Bed and Breakfasts|  NULL|      NULL|        NULL|\n",
      "| 4499983|  1062866| 1878067|          2| Rose Meadow Cottage| Liscannor Ballyhean|   Liscannor|         Munster|        IRL|NULL|52.95278645| -9.39336419|     1|        Holiday Home|   4.0|      NULL|        NULL|\n",
      "| 2089399|  1788162| 2142321|          2|DCU Rooms All Hal...|     Grace Park Road|      Dublin|        Leinster|        IRL|NULL|      53.37|      -6.249|     0|Student Accommoda...|   0.0|      NULL|        NULL|\n",
      "|15041742|  7631411|11994626|          2|       Seaview Lodge|1 Seaview Lodge, ...|     Inverin|   Galway County|        IRL|NULL|  53.241275|    -9.41776|     1|             Hostels|  NULL|      NULL|        NULL|\n",
      "|15041775|  7631444|12062802|          2|   Holiday at Hubble|       Headford Road|      Galway|   Galway County|        IRL|NULL|  53.284151|   -9.049467|     1|        Condo Hotels|  NULL|      NULL|         2.0|\n",
      "|15042099|  7631768|12082081|          2|          John Longs|John Longs Bar, G...| Carlingford|    Louth County|        IRL|NULL|  54.008042|   -6.181079|     0|                Inns|  NULL|      NULL|        NULL|\n",
      "| 7593833|   457315|  301654|          2|     Ardrinane House|           Annascaul|   Annascaul|         Munster|        IRL|NULL| 52.1510471|-10.05656451|     1|     Bed & Breakfast|   0.0|      NULL|        NULL|\n",
      "| 2085736|   460049|  179055|          2|   Atlantic View B&B|Cliffs-of-Moher Road|   Liscannor|         Munster|        IRL|NULL|52.95551552| -9.41905975|     1|     Bed & Breakfast|   3.0|      NULL|        NULL|\n",
      "+--------+---------+--------+-----------+--------------------+--------------------+------------+----------------+-----------+----+-----------+------------+------+--------------------+------+----------+------------+\n",
      "only showing top 20 rows\n",
      "\n"
     ]
    }
   ],
   "source": [
    "fil_df = hotel_df[(hotel_df['countrycode'] == 'IRL')]\n",
    "fil_df.show()"
   ]
  },
  {
   "cell_type": "markdown",
   "metadata": {},
   "source": [
    "Create a dictionary of variables: describing what do you think it means each variable"
   ]
  },
  {
   "cell_type": "code",
   "execution_count": 10,
   "metadata": {},
   "outputs": [
    {
     "data": {
      "text/plain": [
       "{'id': 'Unique identifier for each hotel entry.',\n",
       " 'hotelcode': 'Code used to identify the hotel, possibly for internal use.',\n",
       " 'hotelid': 'Unique identifier for the hotel in the database.',\n",
       " 'websitecode': 'Code used to identify the website where the hotel is listed.',\n",
       " 'hotelname': 'Name of the hotel.',\n",
       " 'address': 'Street address of the hotel.',\n",
       " 'city': 'City where the hotel is located.',\n",
       " 'state': 'State where the hotel is located.',\n",
       " 'countrycode': \"ISO code of the country (e.g., 'IE' for Ireland).\",\n",
       " 'zip': \"Postal code for the hotel's location.\",\n",
       " 'lat': 'Latitude of the hotel location.',\n",
       " 'lng': 'Longitude of the hotel location.',\n",
       " 'status': 'Current status of the hotel (e.g., open, closed).',\n",
       " 'propertytype': 'Type of property (e.g., hotel, motel, guesthouse).',\n",
       " 'rating': 'Rating of the hotel, usually on a scale (e.g., 1-5 or 1-10).',\n",
       " 'larbarterm': \"Could represent a specific term related to the hotel's bar or dining services.\",\n",
       " 'reviewscount': 'Number of reviews received by the hotel.'}"
      ]
     },
     "execution_count": 10,
     "metadata": {},
     "output_type": "execute_result"
    }
   ],
   "source": [
    "dict = {\n",
    "    \"id\": \"Unique identifier for each hotel entry.\",\n",
    "    \"hotelcode\": \"Code used to identify the hotel, possibly for internal use.\",\n",
    "    \"hotelid\": \"Unique identifier for the hotel in the database.\",\n",
    "    \"websitecode\": \"Code used to identify the website where the hotel is listed.\",\n",
    "    \"hotelname\": \"Name of the hotel.\",\n",
    "    \"address\": \"Street address of the hotel.\",\n",
    "    \"city\": \"City where the hotel is located.\",\n",
    "    \"state\": \"State where the hotel is located.\",\n",
    "    \"countrycode\": \"ISO code of the country (e.g., 'IE' for Ireland).\",\n",
    "    \"zip\": \"Postal code for the hotel's location.\",\n",
    "    \"lat\": \"Latitude of the hotel location.\",\n",
    "    \"lng\": \"Longitude of the hotel location.\",\n",
    "    \"status\": \"Current status of the hotel (e.g., open, closed).\",\n",
    "    \"propertytype\": \"Type of property (e.g., hotel, motel, guesthouse).\",\n",
    "    \"rating\": \"Rating of the hotel, usually on a scale (e.g., 1-5 or 1-10).\",\n",
    "    \"larbarterm\": \"Could represent a specific term related to the hotel's bar or dining services.\",\n",
    "    \"reviewscount\": \"Number of reviews received by the hotel.\"\n",
    "}\n",
    "dict\n"
   ]
  },
  {
   "cell_type": "code",
   "execution_count": 11,
   "metadata": {},
   "outputs": [
    {
     "data": {
      "text/plain": [
       "{'websitecode': 'code given for each website',\n",
       " 'dtcollected': 'Date on which the data is collected',\n",
       " 'los': 'Length of stay',\n",
       " 'guests': 'Number of additional guest who can stay',\n",
       " 'roomtype': 'Type of the room',\n",
       " 'onsiterate': 'Price that guests pay when they book directly at the hotel',\n",
       " 'netrate': 'Net price',\n",
       " 'currency': 'Type of currency they use',\n",
       " 'roomdescription': 'Breif description of the room',\n",
       " 'rateplan': 'Plan about the rate',\n",
       " 'sourceurl': 'URL of the website whey these information are from',\n",
       " 'roomamenities': 'Amenities present in the room',\n",
       " 'occupancy': 'Capacity of the room',\n",
       " 'ispromo': 'Indicates whether the promo is available or not',\n",
       " 'closed': 'Indicates whether the room is closed',\n",
       " 'checkin': 'Date of checkin',\n",
       " 'checkout': 'Date of checkout',\n",
       " 'discount': 'discount on price',\n",
       " 'promoname': 'Name of the promo code',\n",
       " 'statuscode': 'Indicates the status of the booking',\n",
       " 'taxstatus': 'Indicates status of the tax',\n",
       " 'taxtype': 'Species the type of Tax',\n",
       " 'taxamount': 'Tax amount for booking',\n",
       " 'pos': 'Point where the booking is done',\n",
       " 'proxyused': 'Indicates whether a third-party service was used for the booking',\n",
       " 'israteperstay': 'Specifies whether rate is charged is per person',\n",
       " 'mealplan': 'Plan about the meal they provide',\n",
       " 'optionalextras': 'List of additional amenities',\n",
       " 'payplan': 'Indicates the methon of payment',\n",
       " 'id': 'Unique ID generated for each booking',\n",
       " 'refid': 'Reference ID',\n",
       " 'hotelid': 'Unique ID for the each hotel',\n",
       " 'minstay': 'Minimum no of persons who can stay'}"
      ]
     },
     "execution_count": 11,
     "metadata": {},
     "output_type": "execute_result"
    }
   ],
   "source": [
    "dict={\"websitecode\":\"code given for each website\",\n",
    "      \"dtcollected\":\"Date on which the data is collected\",\n",
    "      \"los\":\"Length of stay\",\n",
    "      \"guests\":\"Number of additional guest who can stay\",\n",
    "      \"roomtype\":\"Type of the room\",\n",
    "      \"onsiterate\":\"Price that guests pay when they book directly at the hotel\",\n",
    "      \"netrate\":\"Net price\",\n",
    "      \"currency\":\"Type of currency they use\",\n",
    "      \"roomdescription\":\"Breif description of the room\",\n",
    "      \"rateplan\":\"Plan about the rate\",\n",
    "      \"sourceurl\":\"URL of the website whey these information are from\",\n",
    "      \"roomamenities\":\"Amenities present in the room\",\t\n",
    "      \"occupancy\":\"Capacity of the room\",\n",
    "      \"ispromo\":\"Indicates whether the promo is available or not\",\t\n",
    "      \"closed\":\"Indicates whether the room is closed\",\n",
    "      \"checkin\":\"Date of checkin\",\n",
    "      \"checkout\":\"Date of checkout\",\n",
    "      \"discount\":\"discount on price\",\n",
    "      \"promoname\":\"Name of the promo code\",\n",
    "      \"statuscode\":\"Indicates the status of the booking\",\n",
    "      \"taxstatus\":\"Indicates status of the tax\",\n",
    "      \"taxtype\":\"Species the type of Tax\"\t,\n",
    "      \"taxamount\":\"Tax amount for booking\"\t,\n",
    "      \"pos\"\t:\"Point where the booking is done\",\n",
    "      \"proxyused\":\"Indicates whether a third-party service was used for the booking\",\n",
    "      \"israteperstay\":\"Specifies whether rate is charged is per person\",\n",
    "      \"mealplan\":\"Plan about the meal they provide\",\n",
    "      \"optionalextras\":\"List of additional amenities\",\t\n",
    "      \"payplan\":\"Indicates the methon of payment\",\n",
    "      \"id\":\"Unique ID generated for each booking\",\n",
    "      \"refid\":\"Reference ID\",\n",
    "      \"hotelid\":\"Unique ID for the each hotel\",\n",
    "      \"minstay\":\"Minimum no of persons who can stay\"}\n",
    "dict"
   ]
  },
  {
   "cell_type": "markdown",
   "metadata": {},
   "source": [
    "**#Describe the pre-processing and standardization needed for each field in \"rates_df\"**"
   ]
  },
  {
   "cell_type": "code",
   "execution_count": 14,
   "metadata": {},
   "outputs": [
    {
     "name": "stdout",
     "output_type": "stream",
     "text": [
      "+---------------+--------------------------------------------------------------------------+-----------------------------------------------------+\n",
      "|Field          |PreProcessing                                                             |Standardization                                      |\n",
      "+---------------+--------------------------------------------------------------------------+-----------------------------------------------------+\n",
      "|websitecode    |Validate and clean any inconsistencies.                                   |Convert to string.                                   |\n",
      "|dtcollected    |Check for valid date formats.                                             |Convert to a standard date format (e.g., YYYY-MM-DD).|\n",
      "|los            |Handle missing values and check for outliers.                             |Convert to integer.                                  |\n",
      "|guests         |Handle missing values and validate range (should be a positive integer).  |Convert to integer.                                  |\n",
      "|roomtype       |Standardize naming conventions and handle typos.                          |Convert to Title Case.                               |\n",
      "|onsiterate     |Check for valid values (e.g., yes/no).                                    |Convert to a binary format (0/1).                    |\n",
      "|netrate        |Validate and handle missing values or outliers.                           |Convert to floats.                                   |\n",
      "|currency       |Check for consistency in currency codes.                                  |Convert to uppercase.                                |\n",
      "|roomdescription|Clean text by removing special characters and excess whitespace.          |Normalize case (e.g., sentence case).                |\n",
      "|rateplan       |Check for consistency in naming.                                          |Normalize case.                                      |\n",
      "|sourceurl      |Validate URLs for proper format.                                          |Ensure consistent format and encoding.               |\n",
      "|roomamenities  |Handle missing values and clean the list format.                          |Consider one-hot encoding for categorical analysis.  |\n",
      "|occupancy      |Validate values (should not exceed room capacity).                        |Convert to integer.                                  |\n",
      "|ispromo        |Validate and clean values.                                                |Convert to binary (0/1).                             |\n",
      "|closed         |Validate values (e.g., yes/no).                                           |Convert to binary format (0/1).                      |\n",
      "|checkin        |Validate date format and check for logical consistency.                   |Convert to a standard date format (e.g., YYYY-MM-DD).|\n",
      "|checkout       |Validate date format and check for logical consistency with check-in date.|Convert to a standard date format (e.g., YYYY-MM-DD).|\n",
      "|discount       |Handle missing values and validate range (should be non-negative).        |Convert to float or integer.                         |\n",
      "|promoname      |Clean text for consistency.                                               |Normalize case.                                      |\n",
      "|statuscode     |Map any inconsistent codes to a standard set.                             |Convert to a consistent format.                      |\n",
      "+---------------+--------------------------------------------------------------------------+-----------------------------------------------------+\n",
      "only showing top 20 rows\n",
      "\n"
     ]
    }
   ],
   "source": [
    "from pyspark.sql import SparkSession\n",
    "from pyspark.sql import Row\n",
    "\n",
    "spark = SparkSession.builder \\\n",
    "    .appName(\"Preprocessing and Standardization\") \\\n",
    "    .getOrCreate()\n",
    "\n",
    "data = [\n",
    "    Row(Field=\"websitecode\", PreProcessing=\"Validate and clean any inconsistencies.\", Standardization=\"Convert to string.\"),\n",
    "    Row(Field=\"dtcollected\", PreProcessing=\"Check for valid date formats.\", Standardization=\"Convert to a standard date format (e.g., YYYY-MM-DD).\"),\n",
    "    Row(Field=\"los\", PreProcessing=\"Handle missing values and check for outliers.\", Standardization=\"Convert to integer.\"),\n",
    "    Row(Field=\"guests\", PreProcessing=\"Handle missing values and validate range (should be a positive integer).\", Standardization=\"Convert to integer.\"),\n",
    "    Row(Field=\"roomtype\", PreProcessing=\"Standardize naming conventions and handle typos.\", Standardization=\"Convert to Title Case.\"),\n",
    "    Row(Field=\"onsiterate\", PreProcessing=\"Check for valid values (e.g., yes/no).\", Standardization=\"Convert to a binary format (0/1).\"),\n",
    "    Row(Field=\"netrate\", PreProcessing=\"Validate and handle missing values or outliers.\", Standardization=\"Convert to floats.\"),\n",
    "    Row(Field=\"currency\", PreProcessing=\"Check for consistency in currency codes.\", Standardization=\"Convert to uppercase.\"),\n",
    "    Row(Field=\"roomdescription\", PreProcessing=\"Clean text by removing special characters and excess whitespace.\", Standardization=\"Normalize case (e.g., sentence case).\"),\n",
    "    Row(Field=\"rateplan\", PreProcessing=\"Check for consistency in naming.\", Standardization=\"Normalize case.\"),\n",
    "    Row(Field=\"sourceurl\", PreProcessing=\"Validate URLs for proper format.\", Standardization=\"Ensure consistent format and encoding.\"),\n",
    "    Row(Field=\"roomamenities\", PreProcessing=\"Handle missing values and clean the list format.\", Standardization=\"Consider one-hot encoding for categorical analysis.\"),\n",
    "    Row(Field=\"occupancy\", PreProcessing=\"Validate values (should not exceed room capacity).\", Standardization=\"Convert to integer.\"),\n",
    "    Row(Field=\"ispromo\", PreProcessing=\"Validate and clean values.\", Standardization=\"Convert to binary (0/1).\"),\n",
    "    Row(Field=\"closed\", PreProcessing=\"Validate values (e.g., yes/no).\", Standardization=\"Convert to binary format (0/1).\"),\n",
    "    Row(Field=\"checkin\", PreProcessing=\"Validate date format and check for logical consistency.\", Standardization=\"Convert to a standard date format (e.g., YYYY-MM-DD).\"),\n",
    "    Row(Field=\"checkout\", PreProcessing=\"Validate date format and check for logical consistency with check-in date.\", Standardization=\"Convert to a standard date format (e.g., YYYY-MM-DD).\"),\n",
    "    Row(Field=\"discount\", PreProcessing=\"Handle missing values and validate range (should be non-negative).\", Standardization=\"Convert to float or integer.\"),\n",
    "    Row(Field=\"promoname\", PreProcessing=\"Clean text for consistency.\", Standardization=\"Normalize case.\"),\n",
    "    Row(Field=\"statuscode\", PreProcessing=\"Map any inconsistent codes to a standard set.\", Standardization=\"Convert to a consistent format.\"),\n",
    "    Row(Field=\"taxstatus\", PreProcessing=\"Validate values (e.g., taxed/not taxed).\", Standardization=\"Normalize case.\"),\n",
    "    Row(Field=\"taxtype\", PreProcessing=\"Check for consistency and validity.\", Standardization=\"Convert to a standard naming convention.\"),\n",
    "    Row(Field=\"taxamount\", PreProcessing=\"Handle missing values and validate range.\", Standardization=\"Convert to float.\"),\n",
    "    Row(Field=\"pos\", PreProcessing=\"Validate format (e.g., positive/negative values).\", Standardization=\"Convert to appropriate numeric type.\"),\n",
    "    Row(Field=\"proxyused\", PreProcessing=\"Check for valid entries (e.g., yes/no).\", Standardization=\"Convert to binary format (0/1).\"),\n",
    "    Row(Field=\"israteperstay\", PreProcessing=\"Validate values.\", Standardization=\"Convert to binary (0/1).\"),\n",
    "    Row(Field=\"mealplan\", PreProcessing=\"Standardize naming conventions.\", Standardization=\"Normalize case.\"),\n",
    "    Row(Field=\"optionalextras\", PreProcessing=\"Clean and standardize the list format.\", Standardization=\"Consider one-hot encoding or other categorical treatments.\"),\n",
    "    Row(Field=\"payplan\", PreProcessing=\"Check for consistency in naming (e.g., Pay Now, Pay Later).\", Standardization=\"Normalize case.\"),\n",
    "    Row(Field=\"id\", PreProcessing=\"Ensure uniqueness and remove duplicates.\", Standardization=\"Maintain as an integer or string.\"),\n",
    "    Row(Field=\"refid\", PreProcessing=\"Check for consistency and remove duplicates.\", Standardization=\"Convert to string for consistency.\"),\n",
    "    Row(Field=\"hotelid\", PreProcessing=\"Validate against the hotel data set to ensure consistency.\", Standardization=\"Convert to string format if necessary.\"),\n",
    "    Row(Field=\"minstay\", PreProcessing=\"Handle missing values and validate as a positive integer.\", Standardization=\"Convert to integer.\")\n",
    "]\n",
    "\n",
    "df = spark.createDataFrame(data)\n",
    "df.show(truncate=False)\n",
    "spark.stop()\n"
   ]
  },
  {
   "cell_type": "markdown",
   "metadata": {},
   "source": [
    "**#Describe the pre-processing and standardization needed for each field in fil_df**"
   ]
  },
  {
   "cell_type": "code",
   "execution_count": 12,
   "metadata": {},
   "outputs": [
    {
     "name": "stdout",
     "output_type": "stream",
     "text": [
      "+------------+-------------------------------------------------------------------------+---------------------------------------------------------------------+\n",
      "|Field       |PreProcessing                                                            |Standardization                                                      |\n",
      "+------------+-------------------------------------------------------------------------+---------------------------------------------------------------------+\n",
      "|id          |Ensure it's unique and remove any duplicates.                            |Maintain as an integer.                                              |\n",
      "|hotelcode   |Check for consistency in format (e.g., leading zeros).                   |Convert to string for consistency.                                   |\n",
      "|hotelid     |Remove duplicates and check for invalid entries.                         |Convert to string format for consistency.                            |\n",
      "|websitecode |Validate and clean any irregular formats.                                |Keep as a string.                                                    |\n",
      "|hotelname   |Trim whitespace and correct common typos.                                |Convert to title case.                                               |\n",
      "|address     |Validate addresses using a reliable source or API.                       |Standardize abbreviations (e.g., St. → Street).                      |\n",
      "|city        |Check for spelling errors and standardize naming conventions.            |Convert to title case.                                               |\n",
      "|state       |Validate against a list of known state codes/names.                      |Standardize abbreviations (e.g., CA for California).                 |\n",
      "|countrycode |Ensure consistency with ISO country codes.                               |Convert to uppercase.                                                |\n",
      "|zip         |Remove any non-numeric characters.                                       |Ensure consistent length.                                            |\n",
      "|lat         |Validate range (-90 to 90).                                              |Convert to float.                                                    |\n",
      "|lng         |Validate range (-180 to 180).                                            |Convert to float.                                                    |\n",
      "|status      |Map any inconsistent statuses to a standard set (e.g., Active, Inactive).|Convert to uppercase.                                                |\n",
      "|propertytype|Check for consistency in naming (e.g., Hotel, Motel).                    |Convert to uppercase.                                                |\n",
      "|rating      |Handle missing values (e.g., imputation or removal).                     |Convert to float or integer, ensuring a consistent scale (e.g., 1-5).|\n",
      "|larbarterm  |Ensure values are valid.                                                 |Convert to binary (0/1).                                             |\n",
      "|reviewscount|Check for outliers.                                                      |Convert to integer.                                                  |\n",
      "+------------+-------------------------------------------------------------------------+---------------------------------------------------------------------+\n",
      "\n"
     ]
    }
   ],
   "source": [
    "from pyspark.sql import SparkSession\n",
    "from pyspark.sql import Row\n",
    "spark = SparkSession.builder \\\n",
    "    .appName(\"Preprocessing and Standardization\") \\\n",
    "    .getOrCreate()\n",
    "\n",
    "data = [\n",
    "    Row(Field=\"id\", PreProcessing=\"Ensure it's unique and remove any duplicates.\", Standardization=\"Maintain as an integer.\"),\n",
    "    Row(Field=\"hotelcode\", PreProcessing=\"Check for consistency in format (e.g., leading zeros).\", Standardization=\"Convert to string for consistency.\"),\n",
    "    Row(Field=\"hotelid\", PreProcessing=\"Remove duplicates and check for invalid entries.\", Standardization=\"Convert to string format for consistency.\"),\n",
    "    Row(Field=\"websitecode\", PreProcessing=\"Validate and clean any irregular formats.\", Standardization=\"Keep as a string.\"),\n",
    "    Row(Field=\"hotelname\", PreProcessing=\"Trim whitespace and correct common typos.\", Standardization=\"Convert to title case.\"),\n",
    "    Row(Field=\"address\", PreProcessing=\"Validate addresses using a reliable source or API.\", Standardization=\"Standardize abbreviations (e.g., St. → Street).\"),\n",
    "    Row(Field=\"city\", PreProcessing=\"Check for spelling errors and standardize naming conventions.\", Standardization=\"Convert to title case.\"),\n",
    "    Row(Field=\"state\", PreProcessing=\"Validate against a list of known state codes/names.\", Standardization=\"Standardize abbreviations (e.g., CA for California).\"),\n",
    "    Row(Field=\"countrycode\", PreProcessing=\"Ensure consistency with ISO country codes.\", Standardization=\"Convert to uppercase.\"),\n",
    "    Row(Field=\"zip\", PreProcessing=\"Remove any non-numeric characters.\", Standardization=\"Ensure consistent length.\"),\n",
    "    Row(Field=\"lat\", PreProcessing=\"Validate range (-90 to 90).\", Standardization=\"Convert to float.\"),\n",
    "    Row(Field=\"lng\", PreProcessing=\"Validate range (-180 to 180).\", Standardization=\"Convert to float.\"),\n",
    "    Row(Field=\"status\", PreProcessing=\"Map any inconsistent statuses to a standard set (e.g., Active, Inactive).\", Standardization=\"Convert to uppercase.\"),\n",
    "    Row(Field=\"propertytype\", PreProcessing=\"Check for consistency in naming (e.g., Hotel, Motel).\", Standardization=\"Convert to uppercase.\"),\n",
    "    Row(Field=\"rating\", PreProcessing=\"Handle missing values (e.g., imputation or removal).\", Standardization=\"Convert to float or integer, ensuring a consistent scale (e.g., 1-5).\"),\n",
    "    Row(Field=\"larbarterm\", PreProcessing=\"Ensure values are valid.\", Standardization=\"Convert to binary (0/1).\"),\n",
    "    Row(Field=\"reviewscount\", PreProcessing=\"Check for outliers.\", Standardization=\"Convert to integer.\")\n",
    "]\n",
    "\n",
    "df = spark.createDataFrame(data)\n",
    "df.show(truncate=False)\n",
    "spark.stop()\n"
   ]
  },
  {
   "cell_type": "markdown",
   "metadata": {},
   "source": []
  }
 ],
 "metadata": {
  "kernelspec": {
   "display_name": "Python 3",
   "language": "python",
   "name": "python3"
  },
  "language_info": {
   "codemirror_mode": {
    "name": "ipython",
    "version": 3
   },
   "file_extension": ".py",
   "mimetype": "text/x-python",
   "name": "python",
   "nbconvert_exporter": "python",
   "pygments_lexer": "ipython3",
   "version": "3.10.12"
  }
 },
 "nbformat": 4,
 "nbformat_minor": 2
}
